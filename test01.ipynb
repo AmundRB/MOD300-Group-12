{
 "cells": [
  {
   "cell_type": "markdown",
   "id": "abb6e1e0",
   "metadata": {},
   "source": [
    "Automatic (derivatives ) for the people and a song of ice and fire \n",
    "Deadline:07_09_25\n",
    "group number 12: \n",
    " Amund Romseland Brevik\n",
    " Baraa Nidal Ghannoum\n",
    " Magnus Helvik Forsdahl \n",
    "\n",
    " \n",
    "\n",
    "\n",
    "\n",
    "\n",
    "\n",
    "\n"
   ]
  },
  {
   "cell_type": "markdown",
   "id": "4a0ae6ee",
   "metadata": {},
   "source": [
    "Abstract: \n",
    "\n"
   ]
  },
  {
   "cell_type": "markdown",
   "id": "dd159d65",
   "metadata": {},
   "source": [
    "Introduction: "
   ]
  },
  {
   "cell_type": "markdown",
   "id": "9ddd7c48",
   "metadata": {},
   "source": [
    "exercise 1: \n"
   ]
  },
  {
   "cell_type": "markdown",
   "id": "a45bd112",
   "metadata": {},
   "source": [
    "exercise 2: "
   ]
  },
  {
   "cell_type": "markdown",
   "id": "67038717",
   "metadata": {},
   "source": [
    "exercise 3: "
   ]
  },
  {
   "cell_type": "markdown",
   "id": "4023e626",
   "metadata": {},
   "source": [
    "exercise 4:"
   ]
  },
  {
   "cell_type": "markdown",
   "id": "9a68ff38",
   "metadata": {},
   "source": [
    "exercise 5: "
   ]
  },
  {
   "cell_type": "markdown",
   "id": "52e20802",
   "metadata": {},
   "source": [
    "self reflections: "
   ]
  },
  {
   "cell_type": "markdown",
   "id": "534b8d10",
   "metadata": {},
   "source": [
    "References: "
   ]
  }
 ],
 "metadata": {
  "kernelspec": {
   "display_name": "Python 3 (ipykernel)",
   "language": "python",
   "name": "python3"
  },
  "language_info": {
   "codemirror_mode": {
    "name": "ipython",
    "version": 3
   },
   "file_extension": ".py",
   "mimetype": "text/x-python",
   "name": "python",
   "nbconvert_exporter": "python",
   "pygments_lexer": "ipython3",
   "version": "3.11.4"
  }
 },
 "nbformat": 4,
 "nbformat_minor": 5
}
