{
 "cells": [
  {
   "cell_type": "markdown",
   "id": "abb6e1e0",
   "metadata": {},
   "source": [
    "Automatic (derivatives ) for the people and a song of ice and fire \n",
    "Deadline:07_09_25\n",
    "group number 12: \n",
    " Amund Romseland Brevik\n",
    " Baraa Nidal Ghannoum\n",
    " Magnus Helvik Forsdahl \n",
    "\n",
    " \n",
    "\n",
    "\n",
    "\n",
    "\n",
    "\n",
    "\n"
   ]
  },
  {
   "cell_type": "markdown",
   "id": "4a0ae6ee",
   "metadata": {},
   "source": [
    "Abstract: \n",
    "\n"
   ]
  },
  {
   "cell_type": "markdown",
   "id": "dd159d65",
   "metadata": {},
   "source": [
    "Introduction: "
   ]
  },
  {
   "cell_type": "markdown",
   "id": "9ddd7c48",
   "metadata": {},
   "source": [
    "exercise 1: \n"
   ]
  },
  {
   "cell_type": "markdown",
   "id": "f3ba2eea",
   "metadata": {},
   "source": [
    "1.1"
   ]
  },
  {
   "cell_type": "code",
   "execution_count": 1,
   "id": "acac6a38",
   "metadata": {},
   "outputs": [
    {
     "data": {
      "text/plain": [
       "sys.float_info(max=1.7976931348623157e+308, max_exp=1024, max_10_exp=308, min=2.2250738585072014e-308, min_exp=-1021, min_10_exp=-307, dig=15, mant_dig=53, epsilon=2.220446049250313e-16, radix=2, rounds=1)"
      ]
     },
     "execution_count": 1,
     "metadata": {},
     "output_type": "execute_result"
    }
   ],
   "source": [
    "import sys\n",
    "sys.float_info"
   ]
  },
  {
   "cell_type": "markdown",
   "id": "89ef0cdb",
   "metadata": {},
   "source": [
    "max=1.7976931348623157e+308 -\n",
    "This is the largest floating point number that python can represent. Any attempt to go higher will result in inf.\n",
    "A double uses 1 bit for sign, 11 bits for exponent, 52 bits for fraction (mantissa)."
   ]
  },
  {
   "cell_type": "markdown",
   "id": "f9cb48a1",
   "metadata": {},
   "source": [
    "min=2.2250738585072014e-308 - This is the smallest positive normalized floating-point number. The minimum exponent for normalized numbers is −1022. 1.0 × 2^-1022 ≈ 2.2250738585072014 × 10^-308"
   ]
  },
  {
   "cell_type": "markdown",
   "id": "442bd408",
   "metadata": {},
   "source": [
    "epsilon = 2.220446049250313e-16 - The difference between 1.0 and the next representable floating-point value. Double precision has 53 bits of precision. So the spacing between floating-point numbers around 1.0 is 2^-52. So if you add anything smaller than epsilon to 1.0, rounding will round it equal to 1.0"
   ]
  },
  {
   "cell_type": "markdown",
   "id": "a45bd112",
   "metadata": {},
   "source": [
    "exercise 2: "
   ]
  },
  {
   "cell_type": "markdown",
   "id": "67038717",
   "metadata": {},
   "source": [
    "exercise 3: "
   ]
  },
  {
   "cell_type": "markdown",
   "id": "4023e626",
   "metadata": {},
   "source": [
    "exercise 4:"
   ]
  },
  {
   "cell_type": "markdown",
   "id": "9a68ff38",
   "metadata": {},
   "source": [
    "exercise 5: "
   ]
  },
  {
   "cell_type": "markdown",
   "id": "52e20802",
   "metadata": {},
   "source": [
    "self reflections: "
   ]
  },
  {
   "cell_type": "markdown",
   "id": "534b8d10",
   "metadata": {},
   "source": [
    "References: "
   ]
  }
 ],
 "metadata": {
  "kernelspec": {
   "display_name": "MOD300",
   "language": "python",
   "name": "python3"
  },
  "language_info": {
   "codemirror_mode": {
    "name": "ipython",
    "version": 3
   },
   "file_extension": ".py",
   "mimetype": "text/x-python",
   "name": "python",
   "nbconvert_exporter": "python",
   "pygments_lexer": "ipython3",
   "version": "3.13.5"
  }
 },
 "nbformat": 4,
 "nbformat_minor": 5
}
