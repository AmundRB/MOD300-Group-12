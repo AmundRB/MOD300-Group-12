{
 "cells": [
  {
   "cell_type": "markdown",
   "id": "bcfef625",
   "metadata": {},
   "source": [
    "Automatic (derivatives ) for the people and a song of ice and fire\n",
    "\n",
    "Deadline:07_09_25\n",
    "\n",
    "group number 12: \n",
    "\n",
    " Amund Romseland Brevik\n",
    " \n",
    " Baraa Nidal Ghannoum\n",
    "\n",
    " Magnus Helvik Forsdahl \n",
    "\n",
    " \n",
    "\n",
    "\n",
    "\n",
    "\n",
    "\n",
    "\n"
   ]
  },
  {
   "cell_type": "markdown",
   "id": "4a0ae6ee",
   "metadata": {},
   "source": [
    "Abstract: \n",
    "\n",
    "what is the project about? \n",
    "\n",
    "what are the main problems investigated?\n",
    "\n",
    "what are the key numerical methods explored? \n",
    "\n",
    "whaat are the main finding  or results, especially quantitavtive statements? \n",
    "\n",
    "\n"
   ]
  },
  {
   "cell_type": "markdown",
   "id": "dd159d65",
   "metadata": {},
   "source": [
    "Introduction: \n",
    "\n",
    "what is the overall context of this project?\n",
    "\n",
    "\n"
   ]
  },
  {
   "cell_type": "markdown",
   "id": "9ddd7c48",
   "metadata": {},
   "source": [
    "exercise 1: \n"
   ]
  },
  {
   "cell_type": "markdown",
   "id": "f3ba2eea",
   "metadata": {},
   "source": [
    "1.1"
   ]
  },
  {
   "cell_type": "code",
   "execution_count": 9,
   "id": "acac6a38",
   "metadata": {},
   "outputs": [
    {
     "data": {
      "text/plain": [
       "sys.float_info(max=1.7976931348623157e+308, max_exp=1024, max_10_exp=308, min=2.2250738585072014e-308, min_exp=-1021, min_10_exp=-307, dig=15, mant_dig=53, epsilon=2.220446049250313e-16, radix=2, rounds=1)"
      ]
     },
     "execution_count": 9,
     "metadata": {},
     "output_type": "execute_result"
    }
   ],
   "source": [
    "import sys\n",
    "sys.float_info"
   ]
  },
  {
   "cell_type": "markdown",
   "id": "89ef0cdb",
   "metadata": {},
   "source": [
    "max=1.7976931348623157e+308 -\n",
    "This is the largest floating point number that python can represent. Any attempt to go higher will result in inf.\n",
    "A double uses 1 bit for sign, 11 bits for exponent, 52 bits for fraction (mantissa)."
   ]
  },
  {
   "cell_type": "markdown",
   "id": "f9cb48a1",
   "metadata": {},
   "source": [
    "min=2.2250738585072014e-308 - This is the smallest positive normalized floating-point number. The minimum exponent for normalized numbers is −1022. 1.0 × 2^-1022 ≈ 2.2250738585072014 × 10^-308"
   ]
  },
  {
   "cell_type": "markdown",
   "id": "442bd408",
   "metadata": {},
   "source": [
    "epsilon = 2.220446049250313e-16 - The difference between 1.0 and the next representable floating-point value. Double precision has 53 bits of precision. So the spacing between floating-point numbers around 1.0 is 2^-52. So if you add anything smaller than epsilon to 1.0, rounding will round it equal to 1.0"
   ]
  },
  {
   "cell_type": "markdown",
   "id": "1e6db092",
   "metadata": {},
   "source": [
    "1.2"
   ]
  },
  {
   "cell_type": "code",
   "execution_count": 10,
   "id": "e9e011d9",
   "metadata": {},
   "outputs": [
    {
     "name": "stdout",
     "output_type": "stream",
     "text": [
      "0.30000000000000004\n",
      "0.375\n"
     ]
    }
   ],
   "source": [
    "x = 0.1 + 0.2\n",
    "print(x)\n",
    "x = 0.125 + 0.25\n",
    "print(x)"
   ]
  },
  {
   "cell_type": "markdown",
   "id": "b446f8f8",
   "metadata": {},
   "source": [
    "0.1 + 0.3 != 0.3 because decimal 0.1 and 0.2 cannot be represented exactly in binary. Both 0.1 and 0.2 are infinite repeating fractions. IEEE 754 double precision stores only 53 bits of precision, so the binary fraction is rounded. Therefore when you add two approximations, the result will also be an approximation."
   ]
  },
  {
   "cell_type": "markdown",
   "id": "00983c85",
   "metadata": {},
   "source": [
    "0.125 + 0.25 = 0.375 does not have a precision error because all the numbers can be represented in binary."
   ]
  },
  {
   "cell_type": "markdown",
   "id": "1a0cf4e6",
   "metadata": {},
   "source": [
    "1.3"
   ]
  },
  {
   "cell_type": "markdown",
   "id": "2808dc4a",
   "metadata": {},
   "source": [
    "You should not use the \"==\" operator to test whether two floating-point numbers are equal because floats are often approximations as shown previously. So unless you know that the numbers are exactly representable you should not use the \"==\" operator. The code under shows one way of doing a floating-point number comparison with the math module."
   ]
  },
  {
   "cell_type": "code",
   "execution_count": 1,
   "id": "9217b3ae",
   "metadata": {},
   "outputs": [
    {
     "name": "stdout",
     "output_type": "stream",
     "text": [
      "True\n"
     ]
    }
   ],
   "source": [
    "import math \n",
    "\n",
    "print(math.isclose(0.1 + 0.2, 0.3))"
   ]
  },
  {
   "cell_type": "markdown",
   "id": "a45bd112",
   "metadata": {},
   "source": [
    "exercise 2: "
   ]
  },
  {
   "cell_type": "markdown",
   "id": "a0f49b0c",
   "metadata": {},
   "source": [
    "Utfordringer: (til senere)\n",
    "1) laste ned numpy løsning: \"pip install numpy\"\n",
    "\n",
    "1. Create a native Python list of the same size as x and holding the same\n",
    " values, i.e. define x as a list x=[0,1,2,3,4,5,6,7,8,9]. Apply the same\n",
    " two function calls to this list, i.e. np.exp(x) and np.exp(-x). Explain\n",
    " what happens.\n"
   ]
  },
  {
   "cell_type": "code",
   "execution_count": null,
   "id": "f2c4f53c",
   "metadata": {},
   "outputs": [
    {
     "name": "stdout",
     "output_type": "stream",
     "text": [
      "[1.00000000e+00 2.71828183e+00 7.38905610e+00 2.00855369e+01\n",
      " 5.45981500e+01 1.48413159e+02 4.03428793e+02 1.09663316e+03\n",
      " 2.98095799e+03 8.10308393e+03]\n",
      "[1.00000000e+00 3.67879441e-01 1.35335283e-01 4.97870684e-02\n",
      " 1.83156389e-02 6.73794700e-03 2.47875218e-03 9.11881966e-04\n",
      " 3.35462628e-04 1.23409804e-04]\n"
     ]
    }
   ],
   "source": [
    "import numpy as np\n",
    "def exponent_function(List):\n",
    "    \"\"\"\n",
    "    Function that takes in a list and uses the funtions np.exp(x) and np.exp(-x), then prints the result\n",
    "\n",
    "    Args:\n",
    "        List (list of int/float): A list of numbers.\n",
    "    \"\"\"\n",
    "    print(np.exp(List))\n",
    "    print(np.exp(-List))\n",
    "    return\n",
    "\n",
    "x = [0,1,2,3,4,5,6,7,8,9]\n",
    "x = np.array(x) #Unsure if you want us to do this, if not an error will be raised\n",
    "exponent_function(x)"
   ]
  },
  {
   "cell_type": "markdown",
   "id": "74eaab68",
   "metadata": {},
   "source": [
    "Explanation:\n",
    "In the first list np.exp(x) we can see how the numbers increase exponentially for each element in the list as it goes on. Example: first number of list is 0, here euler gets the number 0 as an exponent(e^0). The next element is 1, so here it will be (e^1) and we see how the output is 2.718, which is Euler.\n",
    "\n",
    "When doing np.exp(-x), it then does the same thing (goes trough the whole list etc) but instead it's exponent is negative (e^-x). Here we can see that the output list the numbers get's exponentially smaller. Where the first number is 1 becouse (e^0=1), and the next number is 3.67*10^(-1)= 0.36. \n",
    "\n",
    "2. How would you generally evaluate a function on all elements of a native\n",
    " Python list? (as opposed to a NumPy array)\n",
    "\n",
    " Generally i would use an for-loop to go through each element of the list, Like this:"
   ]
  },
  {
   "cell_type": "code",
   "execution_count": null,
   "id": "87254062",
   "metadata": {},
   "outputs": [
    {
     "name": "stdout",
     "output_type": "stream",
     "text": [
      "[1.0, 2.718281828459045, 7.38905609893065, 20.085536923187668, 54.598150033144236, 148.4131591025766, 403.4287934927351, 1096.6331584284585, 2980.9579870417283, 8103.083927575384]\n"
     ]
    }
   ],
   "source": [
    "import math\n",
    "def native_exp_forloop(List):\n",
    "    \"\"\"\n",
    "    Takes a list of numbers and returns a new list where each element\n",
    "    is e raised to the power of the corresponding element in the input list.\n",
    "    \n",
    "    Args:\n",
    "        List (list of int/float): A list of numbers.\n",
    "    \n",
    "    Returns:\n",
    "        list of float: A list containing e^x for each x in the input list.\n",
    "    \"\"\"\n",
    "    result_exp = []\n",
    "    for x in List:\n",
    "        result_exp.append(math.exp(x))\n",
    "    return result_exp\n",
    "\n",
    "print(native_exp_forloop([0,1,2,3,4,5,6,7,8,9]))"
   ]
  },
  {
   "cell_type": "markdown",
   "id": "67038717",
   "metadata": {},
   "source": [
    "Exercise 3:  Finite differences (FD) with functions: \n",
    "\n",
    "part1: Visualizing the function \n",
    "\n",
    "\n",
    "\n"
   ]
  },
  {
   "cell_type": "code",
   "execution_count": 3,
   "id": "83e8701b",
   "metadata": {},
   "outputs": [
    {
     "data": {
      "image/png": "[encoded data removed]",
      "text/plain": [
       "<Figure size 640x480 with 1 Axes>"
      ]
     },
     "metadata": {},
     "output_type": "display_data"
    }
   ],
   "source": [
    "import numpy as np\n",
    "import matplotlib.pyplot as plt\n",
    "#define the function\n",
    "def f(x, a=0.1, b=10): \n",
    "    return np.cos(b*x)*np.exp(-a*x**2)\n",
    "#define the derivative of the function\n",
    "def df(x, a=0.1, b=10): \n",
    "    #return -b*np.sin(b*x)*np.exp(-a*x**2) - 2*a*x*np.cos(b*x)*np.exp(-a*x**2)\n",
    "    term1=-b*np.sin(b*x)*np.exp(-a*x**2)\n",
    "    term2=-2*a*x*np.cos(b*x)*np.exp(-a*x**2)\n",
    "    return term1 + term2\n",
    "#####other soulution is using this : \n",
    "#def plot_function(fun, x_min, x_max,a=0.1, b=10,  num_points=1000):\n",
    "#    x = np.linspace(x_min, x_max, num_points)\n",
    "#    y = fun(x, a, b)\n",
    "#    plt.figure(figize=(10,6))\n",
    "#plt.plot(x,y,label=f'f(x), a={a}, b={b}')\n",
    "#plt.title('Plot of the function')\n",
    "#plt.xlabel('x')\n",
    "#plt.ylabel('f(x)')\n",
    "#plt.grid()\n",
    "#plt.legend()\n",
    "#plt.show()\n",
    "\n",
    "#plot the function and its derivative\n",
    "x = np.linspace(-10,10, 1000000)  \n",
    "plt.plot(x,f(x), label=\"A Gaussian wave packet\")      \n",
    "plt.plot(x, df(x), label=\"A Gaussian wave packets derivative\")   \n",
    "plt.legend()\n",
    "plt.xlabel('x')\n",
    "plt.ylabel('f(x)')\n",
    "plt.grid()\n",
    "plt.show()  "
   ]
  },
  {
   "cell_type": "markdown",
   "id": "7df7019c",
   "metadata": {},
   "source": [
    "part 2: The analytical derivative \n"
   ]
  },
  {
   "cell_type": "code",
   "execution_count": null,
   "id": "cab58f3b",
   "metadata": {},
   "outputs": [
    {
     "name": "stdout",
     "output_type": "stream",
     "text": [
      "The analytical derivative at x=1 is 5.074351236525322 \n"
     ]
    }
   ],
   "source": [
    "#the df function is defined above\n",
    "#test the analytical derivative at a specific point(can be any point just change the values of them..)\n",
    "x_test=1\n",
    "a_value=0.1\n",
    "b_value=10\n",
    "df_analytical=df(x_test, a=a_value, b=b_value)\n",
    "print(f\"The analytical derivative at x={x_test} is {df_analytical} \")"
   ]
  },
  {
   "cell_type": "markdown",
   "id": "46e37a1b",
   "metadata": {},
   "source": [
    "part3: forword difference method\n"
   ]
  },
  {
   "cell_type": "code",
   "execution_count": null,
   "id": "42e7c55c",
   "metadata": {},
   "outputs": [
    {
     "name": "stdout",
     "output_type": "stream",
     "text": [
      "The forward difference approximation at x=1.0 with h=0.01 is 5.435423085794688 \n",
      "analytical solution for f'(x) at x=1.0 is 5.074351\n",
      "Absolut difference between analytical and forward difference: 0.361072\n",
      "The forward difference approximation is NOT close to the analytical derivative.\n"
     ]
    }
   ],
   "source": [
    "def forward_difference(f, x, h, *args ):\n",
    "    return (f(x + h, *args) - f(x, *args)) / h    \n",
    "\n",
    "#using args to pass additional parameters a and b to the function f\n",
    "x_point=1.0\n",
    "h_step=1e-2  #step size\n",
    "\n",
    "forward_diff=forward_difference(f, x_point, h_step, a_value, b_value)\n",
    "print(f\"The forward difference approximation at x={x_point} with h={h_step} is {forward_diff} \")\n",
    "#check that the forward difference is close to the analytical derivative\n",
    "#renaming the variable for clarity\n",
    "analytical_results=df_analytical\n",
    "print(f\"analytical solution for f'(x) at x={x_point} is {analytical_results:.6f}\")\n",
    "print(f\"Absolut difference between analytical and forward difference: {abs(forward_diff - analytical_results):.6f}\")\n",
    "if abs(forward_diff - analytical_results) < 1e-3: \n",
    "    #used 1e-3 insted of 1e-2 to make sure the result is more accurate\n",
    "    print(\"The forward difference approximation is close to the analytical derivative.\")\n",
    "else:\n",
    "    print(\"The forward difference approximation is NOT close to the analytical derivative.\")    \n",
    "    \n",
    "\n",
    "\n"
   ]
  },
  {
   "cell_type": "markdown",
   "id": "4023e626",
   "metadata": {},
   "source": [
    "exercise 4:"
   ]
  },
  {
   "cell_type": "markdown",
   "id": "eb0edb73",
   "metadata": {},
   "source": [
    "4.1"
   ]
  },
  {
   "cell_type": "code",
   "execution_count": 4,
   "id": "ac29a9c6",
   "metadata": {},
   "outputs": [],
   "source": [
    "class duple:\n",
    "    \"\"\"\n",
    "    Class for automatic differentiation\n",
    "    top: function value\n",
    "    bottom: derivative of function\n",
    "    \"\"\"\n",
    "    def __init__(self,top, bottom=0):\n",
    "        self.top = top\n",
    "        self.bottom = bottom\n",
    "    \n",
    "    def __add__(self, d): # u+v, u’+v’\n",
    "        return duple(self.top + d.top, self.bottom + d.bottom ) \n",
    "    # 4.3 Part 1\n",
    "    def __repr__(self):\n",
    "        return \"[\"+str(self.top)+\",\"+str(self.bottom)+\"]\"\n",
    "    def __str__(self):\n",
    "        return \"[\"+str(self.top)+\",\"+str(self.bottom)+\"]\"\n",
    "    # 4.3 Part 2\n",
    "    def __pos__(self):\n",
    "        return duple(+self.top, +self.bottom)\n",
    "    def __neg__(self):\n",
    "        return duple(-self.top, -self.bottom)\n",
    "    def __sub__(self, d):\n",
    "        return duple(self.top - d.top, self.bottom - d.bottom)\n",
    "    # 4.4 Part 3\n",
    "    def __mul__(self, d):\n",
    "        return duple(\n",
    "            self.top * d.top,\n",
    "            self.bottom * d.top + self.top * d.bottom\n",
    "        )\n",
    "    def __truediv__(self, d):\n",
    "        return duple(\n",
    "            self.top / d.top,\n",
    "            (self.bottom * d.top - self.top * d.bottom) / (d.top ** 2)\n",
    "        )"
   ]
  },
  {
   "cell_type": "markdown",
   "id": "9e236222",
   "metadata": {},
   "source": [
    "4.2 Part 1"
   ]
  },
  {
   "cell_type": "code",
   "execution_count": null,
   "id": "eb144bcd",
   "metadata": {},
   "outputs": [
    {
     "name": "stdout",
     "output_type": "stream",
     "text": [
      "3 1\n",
      "3 0\n"
     ]
    }
   ],
   "source": [
    "x = duple(3, 1)\n",
    "print(x.top, x.bottom) # 3 1\n",
    "y = duple(3)\n",
    "print(y.top, y.bottom) # 3 0 since y.bottom was not set and self.bottom = 0 by default."
   ]
  },
  {
   "cell_type": "markdown",
   "id": "11237ad6",
   "metadata": {},
   "source": [
    " Part 2"
   ]
  },
  {
   "cell_type": "code",
   "execution_count": 6,
   "id": "55888dbd",
   "metadata": {},
   "outputs": [
    {
     "name": "stdout",
     "output_type": "stream",
     "text": [
      "1 2 3\n"
     ]
    }
   ],
   "source": [
    "class point:\n",
    "    \"\"\"\n",
    "    Class for points\n",
    "    \"\"\"\n",
    "    def __init__(self, x=0, y=0, z=0):\n",
    "        self.x = x\n",
    "        self.y = y\n",
    "        self.z = z\n",
    "\n",
    "t = point(1, 2, 3)\n",
    "print(t.x, t.y, t.z)"
   ]
  },
  {
   "cell_type": "code",
   "execution_count": 18,
   "id": "6d3a6a6f",
   "metadata": {},
   "outputs": [
    {
     "name": "stdout",
     "output_type": "stream",
     "text": [
      "4 6\n"
     ]
    }
   ],
   "source": [
    "x=duple(1,2)\n",
    "y=duple(3,4)\n",
    "z=x+y\n",
    "print(z.top, z.bottom)"
   ]
  },
  {
   "cell_type": "markdown",
   "id": "e91212b0",
   "metadata": {},
   "source": [
    "4.3 Part 1"
   ]
  },
  {
   "cell_type": "code",
   "execution_count": 47,
   "id": "104b50ed",
   "metadata": {},
   "outputs": [
    {
     "data": {
      "text/plain": [
       "[4,6]"
      ]
     },
     "execution_count": 47,
     "metadata": {},
     "output_type": "execute_result"
    }
   ],
   "source": [
    "x=duple(1,2)\n",
    "y=duple(3,4)\n",
    "x+y # It prints out [4,6] by itself. Would be the same as print(x+y)"
   ]
  },
  {
   "cell_type": "markdown",
   "id": "cad3ed3b",
   "metadata": {},
   "source": [
    "Part 2"
   ]
  },
  {
   "cell_type": "code",
   "execution_count": 50,
   "id": "703041d8",
   "metadata": {},
   "outputs": [
    {
     "name": "stdout",
     "output_type": "stream",
     "text": [
      "[-1,-2]\n",
      "[-2,-2]\n"
     ]
    }
   ],
   "source": [
    "print(-x)\n",
    "print(x-y)"
   ]
  },
  {
   "cell_type": "markdown",
   "id": "62500cdf",
   "metadata": {},
   "source": [
    "Part 3"
   ]
  },
  {
   "cell_type": "code",
   "execution_count": null,
   "id": "ecd4d5f7",
   "metadata": {},
   "outputs": [
    {
     "name": "stdout",
     "output_type": "stream",
     "text": [
      "auto diff= [1.728,4.32]\n",
      "analytical= 1.728 4.319999999999999\n",
      "auto diff= [0.45454545454545453,-0.20661157024793386]\n",
      "analytical= 0.45454545454545453 -0.20661157024793386\n",
      "auto diff= [3.0944787419716917,4.297548854694511]\n",
      "analytical= 3.0944787419716917 4.297548854694511\n"
     ]
    }
   ],
   "source": [
    "#Test of Code from pdf\n",
    "x=1.2 # just for making it easy to use other values\n",
    "One=duple(1.,0.) # derivative of a constant is zero\n",
    "X=duple(x,1) # derivative of x with respect to x is 1\n",
    "print(\"auto diff=\",X*X*X)\n",
    "print(\"analytical=\",x*x*x, 3*x*x)\n",
    "print(\"auto diff=\", One/(One+X))\n",
    "print(\"analytical=\", 1/(1+x),-1/(1+x)**2)\n",
    "Exp=duple(np.exp(x),np.exp(x)) # derivative of exp(x) is exp(x)\n",
    "Sin=duple(np.sin(x),np.cos(x)) # derivative of sin(x) is cos(x)\n",
    "print(\"auto diff=\", Exp*Sin)\n",
    "print(\"analytical=\", np.exp(x)*np.sin(x), np.exp(x)*np.sin(x)+np.exp(x)*np.cos(x))"
   ]
  },
  {
   "cell_type": "markdown",
   "id": "464b2183",
   "metadata": {},
   "source": [
    "Part 4"
   ]
  },
  {
   "cell_type": "code",
   "execution_count": 10,
   "id": "b3e34d0a",
   "metadata": {},
   "outputs": [],
   "source": [
    "class dfunction:\n",
    "    def __init__(self, f, df):\n",
    "        self.f = f\n",
    "        self.df = df\n",
    "    def __call__(self,d: duple): # kernel rule sending in and returning duple\n",
    "        return duple(\n",
    "            self.f(d.top), \n",
    "            self.df(d.top) * d.bottom\n",
    "        ) #fill inn kernel rule here!\n"
   ]
  },
  {
   "cell_type": "code",
   "execution_count": null,
   "id": "c22884c7",
   "metadata": {},
   "outputs": [
    {
     "name": "stdout",
     "output_type": "stream",
     "text": [
      "auto diff  [3.144063967938574,0.9568927450589139]\n",
      "analytical  3.144063967938574 0.9568927450589139\n"
     ]
    }
   ],
   "source": [
    "#Test of code from pdf\n",
    "def f(x):\n",
    "    return np.log(x)\n",
    "def df(x):\n",
    "    return 1/x\n",
    "x=3.1\n",
    "One=duple(1.,0.) # derivative of a constant is zero\n",
    "X=duple(x,1) # derivative of x with respect to x is 1\n",
    "Log=dfunction(f,df) #note no arguments to f - we are passing the function\n",
    "Exp=dfunction(np.exp,np.exp) # same here\n",
    "print(\"auto diff \", Log(One+Exp(X)))\n",
    "print(\"analytical \", np.log(1+np.exp(x)),np.exp(x)/(1+np.exp(x)))\n"
   ]
  },
  {
   "cell_type": "markdown",
   "id": "d14b6dba",
   "metadata": {},
   "source": [
    "Part 5"
   ]
  },
  {
   "cell_type": "code",
   "execution_count": 28,
   "id": "001285c7",
   "metadata": {},
   "outputs": [
    {
     "name": "stdout",
     "output_type": "stream",
     "text": [
      "auto diff  [-0.7592233159170217,5.074351236525322]\n",
      "analytical  -0.7592233159170217 5.074351236525322\n",
      "absolute error  0.0\n"
     ]
    }
   ],
   "source": [
    "x = 1.0\n",
    "a = 0.1\n",
    "b = 10.0\n",
    "\n",
    "Cos = dfunction(np.cos, lambda x: -np.sin(x)) #Creates dfunction for cosinus and a lambda function for the derivative of cosinus to pass on the x\n",
    "Exp = dfunction(np.exp, np.exp) #Same as previous exponent dfunction.\n",
    "\n",
    "X = duple(x, 1)     # Variable x with derivative\n",
    "A = duple(a, 0)     # Constant a with derivative\n",
    "B = duple(b, 0)     # Constant b with derivative\n",
    "\n",
    "wave = Cos(B*X) * Exp(-A*X*X)\n",
    "\n",
    "wave_analytical_f = np.cos(b*x) * np.exp(-a*x**2)\n",
    "wave_analytical_df = -b*np.sin(b*x)*np.exp(-a*x**2) + np.cos(b*x)*(-2*a*x)*np.exp(-a*x**2)\n",
    "#Test\n",
    "print(\"auto diff \", wave)\n",
    "print(\"analytical \", wave_analytical_f,  wave_analytical_df)\n",
    "print(\"absolute error \", abs(wave_analytical_df - wave.bottom))"
   ]
  },
  {
   "cell_type": "markdown",
   "id": "11e2ac52",
   "metadata": {},
   "source": [
    "Part 6\n",
    "\n",
    "Automatic differentiation (AD) is used because functions are often too complicated to differentiate by hand and would require too much time. Some examples of the use in specific fields are:\n",
    "\n",
    "-Simulations/modeling. AD can be used to solve differential equations. It is also used for sensitivity analysis and parameter estimation in models but I do not have any experience with that.\n",
    "\n",
    "-Optimization problems. Often used in engineering, finance and physics problems where gradient based optimization is required.\n",
    "\n",
    "-Machine Learning. It is also used in machine learning which is very relevant today.\n",
    "\n",
    "Strengths:\n",
    "\n",
    "-AD does not suffer from truncation errors. No approximation\n",
    "\n",
    "- More efficient than Numerical Differentiation(ND)\n",
    "\n",
    "- Works for complex functions composed of many operations which would be difficult to solve using ND\n",
    "\n",
    "Weaknesses: \n",
    "\n",
    "- You need an initial setup/Implementation complexity. In our case we needed a special data structure like \"duple\".\n",
    "\n",
    "- Might be quicker to use ND for simple cases to avoid the set up.\n",
    "\n",
    "- Large models using AD can use a lot of memory because previous results are stored for backpropagation. Chain rule is a good example of this."
   ]
  },
  {
   "cell_type": "markdown",
   "id": "9a68ff38",
   "metadata": {},
   "source": [
    "exercise 5: "
   ]
  },
  {
   "cell_type": "markdown",
   "id": "52e20802",
   "metadata": {},
   "source": [
    "self reflections: "
   ]
  },
  {
   "cell_type": "markdown",
   "id": "534b8d10",
   "metadata": {},
   "source": [
    "References: "
   ]
  }
 ],
 "metadata": {
  "kernelspec": {
   "display_name": "MOD300",
   "language": "python",
   "name": "python3"
  },
  "language_info": {
   "codemirror_mode": {
    "name": "ipython",
    "version": 3
   },
   "file_extension": ".py",
   "mimetype": "text/x-python",
   "name": "python",
   "nbconvert_exporter": "python",
   "pygments_lexer": "ipython3",
   "version": "3.13.5"
  }
 },
 "nbformat": 4,
 "nbformat_minor": 5
}
